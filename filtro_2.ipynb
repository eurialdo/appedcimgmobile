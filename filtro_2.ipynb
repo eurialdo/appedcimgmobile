{
 "cells": [
  {
   "cell_type": "code",
   "execution_count": 2,
   "metadata": {},
   "outputs": [
    {
     "data": {
      "text/plain": [
       "{40961: 65535,\n",
       " 40962: 694,\n",
       " 40963: 563,\n",
       " 296: 2,\n",
       " 34665: 164,\n",
       " 305: 'Adobe Photoshop CS Windows',\n",
       " 274: 1,\n",
       " 306: '2011:12:20 11:33:56',\n",
       " 282: (96, 1),\n",
       " 283: (96, 1)}"
      ]
     },
     "execution_count": 2,
     "metadata": {},
     "output_type": "execute_result"
    }
   ],
   "source": [
    "from PIL import Image, ImageFilter\n",
    "#Read image\n",
    "im = Image.open( '/home/eurialdo/Documentos/Python/image.jpg' )\n",
    "#Display image\n",
    "im.show()\n",
    "\n",
    "#Applying a filter to the image\n",
    "im_sharp = im.filter( ImageFilter.SHARPEN )\n",
    "#Saving the filtered image to a new file\n",
    "im_sharp.save( 'image_sharpened.jpg', 'JPEG' )\n",
    "\n",
    "#Splitting the image into its respective bands, i.e. Red, Green,\n",
    "#and Blue for RGB\n",
    "r,g,b = im_sharp.split()\n",
    "\n",
    "#Viewing EXIF data embedded in image\n",
    "exif_data = im._getexif()\n",
    "exif_data"
   ]
  },
  {
   "cell_type": "code",
   "execution_count": null,
   "metadata": {},
   "outputs": [],
   "source": []
  }
 ],
 "metadata": {
  "kernelspec": {
   "display_name": "Python 3",
   "language": "python",
   "name": "python3"
  },
  "language_info": {
   "codemirror_mode": {
    "name": "ipython",
    "version": 3
   },
   "file_extension": ".py",
   "mimetype": "text/x-python",
   "name": "python",
   "nbconvert_exporter": "python",
   "pygments_lexer": "ipython3",
   "version": "3.6.8"
  }
 },
 "nbformat": 4,
 "nbformat_minor": 2
}
